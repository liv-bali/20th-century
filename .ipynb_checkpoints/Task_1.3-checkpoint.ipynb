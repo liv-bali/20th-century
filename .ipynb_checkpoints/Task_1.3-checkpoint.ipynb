{
 "cells": [
  {
   "cell_type": "code",
   "execution_count": 3,
   "id": "b8d7f33b-ccab-493c-ae34-046ae69f0d81",
   "metadata": {},
   "outputs": [],
   "source": [
    "import pandas as pd"
   ]
  },
  {
   "cell_type": "code",
   "execution_count": 5,
   "id": "d84d9932-9ecb-4475-9c39-cfa19ca31738",
   "metadata": {},
   "outputs": [],
   "source": [
    "data = pd.DataFrame({\"Name\": ['Aragorn', 'Boromir', 'Frodo','Galadriel'],\n",
    "                     \"Race\": [\"human\", \"human\", \"hobbit\", \"elf\"],\n",
    "                     \"Age\": [88,41,51,8382]})"
   ]
  },
  {
   "cell_type": "code",
   "execution_count": 9,
   "id": "d79579a9-dee3-4aaf-b519-798ab1325801",
   "metadata": {},
   "outputs": [
    {
     "data": {
      "text/html": [
       "<div>\n",
       "<style scoped>\n",
       "    .dataframe tbody tr th:only-of-type {\n",
       "        vertical-align: middle;\n",
       "    }\n",
       "\n",
       "    .dataframe tbody tr th {\n",
       "        vertical-align: top;\n",
       "    }\n",
       "\n",
       "    .dataframe thead th {\n",
       "        text-align: right;\n",
       "    }\n",
       "</style>\n",
       "<table border=\"1\" class=\"dataframe\">\n",
       "  <thead>\n",
       "    <tr style=\"text-align: right;\">\n",
       "      <th></th>\n",
       "      <th>Name</th>\n",
       "      <th>Race</th>\n",
       "      <th>Age</th>\n",
       "      <th>age_valinor</th>\n",
       "    </tr>\n",
       "  </thead>\n",
       "  <tbody>\n",
       "    <tr>\n",
       "      <th>0</th>\n",
       "      <td>Aragorn</td>\n",
       "      <td>human</td>\n",
       "      <td>88</td>\n",
       "      <td>8.8</td>\n",
       "    </tr>\n",
       "    <tr>\n",
       "      <th>1</th>\n",
       "      <td>Boromir</td>\n",
       "      <td>human</td>\n",
       "      <td>41</td>\n",
       "      <td>4.1</td>\n",
       "    </tr>\n",
       "    <tr>\n",
       "      <th>2</th>\n",
       "      <td>Frodo</td>\n",
       "      <td>hobbit</td>\n",
       "      <td>51</td>\n",
       "      <td>5.1</td>\n",
       "    </tr>\n",
       "    <tr>\n",
       "      <th>3</th>\n",
       "      <td>Galadriel</td>\n",
       "      <td>elf</td>\n",
       "      <td>8382</td>\n",
       "      <td>838.2</td>\n",
       "    </tr>\n",
       "  </tbody>\n",
       "</table>\n",
       "</div>"
      ],
      "text/plain": [
       "        Name    Race   Age  age_valinor\n",
       "0    Aragorn   human    88          8.8\n",
       "1    Boromir   human    41          4.1\n",
       "2      Frodo  hobbit    51          5.1\n",
       "3  Galadriel     elf  8382        838.2"
      ]
     },
     "execution_count": 9,
     "metadata": {},
     "output_type": "execute_result"
    }
   ],
   "source": [
    "def divide(row):\n",
    "        result = row['Age']/10\n",
    "        return result\n",
    "\n",
    "data['age_valinor'] = data.apply(divide, axis=1)\n",
    "\n",
    "data"
   ]
  },
  {
   "cell_type": "code",
   "execution_count": 11,
   "id": "34cc4fa1-78be-4c96-b7c5-992ea5536240",
   "metadata": {},
   "outputs": [
    {
     "data": {
      "text/plain": [
       "0      8.8\n",
       "1      4.1\n",
       "2      5.1\n",
       "3    838.2\n",
       "Name: Age, dtype: float64"
      ]
     },
     "execution_count": 11,
     "metadata": {},
     "output_type": "execute_result"
    }
   ],
   "source": [
    "divide_2 = lambda x: x/10\n",
    "divide_2(data['Age'])"
   ]
  },
  {
   "cell_type": "code",
   "execution_count": 13,
   "id": "55a57f5a-7935-405e-8576-5694514ec7f2",
   "metadata": {},
   "outputs": [
    {
     "data": {
      "text/html": [
       "<div>\n",
       "<style scoped>\n",
       "    .dataframe tbody tr th:only-of-type {\n",
       "        vertical-align: middle;\n",
       "    }\n",
       "\n",
       "    .dataframe tbody tr th {\n",
       "        vertical-align: top;\n",
       "    }\n",
       "\n",
       "    .dataframe thead th {\n",
       "        text-align: right;\n",
       "    }\n",
       "</style>\n",
       "<table border=\"1\" class=\"dataframe\">\n",
       "  <thead>\n",
       "    <tr style=\"text-align: right;\">\n",
       "      <th></th>\n",
       "      <th>Name</th>\n",
       "      <th>Race</th>\n",
       "      <th>Age</th>\n",
       "      <th>age_valinor</th>\n",
       "      <th>age_2</th>\n",
       "    </tr>\n",
       "  </thead>\n",
       "  <tbody>\n",
       "    <tr>\n",
       "      <th>0</th>\n",
       "      <td>Aragorn</td>\n",
       "      <td>human</td>\n",
       "      <td>88</td>\n",
       "      <td>8.8</td>\n",
       "      <td>8.8</td>\n",
       "    </tr>\n",
       "    <tr>\n",
       "      <th>1</th>\n",
       "      <td>Boromir</td>\n",
       "      <td>human</td>\n",
       "      <td>41</td>\n",
       "      <td>4.1</td>\n",
       "      <td>4.1</td>\n",
       "    </tr>\n",
       "    <tr>\n",
       "      <th>2</th>\n",
       "      <td>Frodo</td>\n",
       "      <td>hobbit</td>\n",
       "      <td>51</td>\n",
       "      <td>5.1</td>\n",
       "      <td>5.1</td>\n",
       "    </tr>\n",
       "    <tr>\n",
       "      <th>3</th>\n",
       "      <td>Galadriel</td>\n",
       "      <td>elf</td>\n",
       "      <td>8382</td>\n",
       "      <td>838.2</td>\n",
       "      <td>838.2</td>\n",
       "    </tr>\n",
       "  </tbody>\n",
       "</table>\n",
       "</div>"
      ],
      "text/plain": [
       "        Name    Race   Age  age_valinor  age_2\n",
       "0    Aragorn   human    88          8.8    8.8\n",
       "1    Boromir   human    41          4.1    4.1\n",
       "2      Frodo  hobbit    51          5.1    5.1\n",
       "3  Galadriel     elf  8382        838.2  838.2"
      ]
     },
     "execution_count": 13,
     "metadata": {},
     "output_type": "execute_result"
    }
   ],
   "source": [
    "data['age_2'] = divide_2(data['Age'])\n",
    "\n",
    "data"
   ]
  },
  {
   "cell_type": "code",
   "execution_count": 15,
   "id": "b8800f56-2dd2-4e5b-9088-afcc2031d2ac",
   "metadata": {},
   "outputs": [
    {
     "data": {
      "text/html": [
       "<div>\n",
       "<style scoped>\n",
       "    .dataframe tbody tr th:only-of-type {\n",
       "        vertical-align: middle;\n",
       "    }\n",
       "\n",
       "    .dataframe tbody tr th {\n",
       "        vertical-align: top;\n",
       "    }\n",
       "\n",
       "    .dataframe thead th {\n",
       "        text-align: right;\n",
       "    }\n",
       "</style>\n",
       "<table border=\"1\" class=\"dataframe\">\n",
       "  <thead>\n",
       "    <tr style=\"text-align: right;\">\n",
       "      <th></th>\n",
       "      <th>Name</th>\n",
       "      <th>Race</th>\n",
       "      <th>Age</th>\n",
       "      <th>age_valinor</th>\n",
       "      <th>age_2</th>\n",
       "      <th>age_3</th>\n",
       "    </tr>\n",
       "  </thead>\n",
       "  <tbody>\n",
       "    <tr>\n",
       "      <th>0</th>\n",
       "      <td>Aragorn</td>\n",
       "      <td>human</td>\n",
       "      <td>88</td>\n",
       "      <td>8.8</td>\n",
       "      <td>8.8</td>\n",
       "      <td>8.8</td>\n",
       "    </tr>\n",
       "    <tr>\n",
       "      <th>1</th>\n",
       "      <td>Boromir</td>\n",
       "      <td>human</td>\n",
       "      <td>41</td>\n",
       "      <td>4.1</td>\n",
       "      <td>4.1</td>\n",
       "      <td>4.1</td>\n",
       "    </tr>\n",
       "    <tr>\n",
       "      <th>2</th>\n",
       "      <td>Frodo</td>\n",
       "      <td>hobbit</td>\n",
       "      <td>51</td>\n",
       "      <td>5.1</td>\n",
       "      <td>5.1</td>\n",
       "      <td>5.1</td>\n",
       "    </tr>\n",
       "    <tr>\n",
       "      <th>3</th>\n",
       "      <td>Galadriel</td>\n",
       "      <td>elf</td>\n",
       "      <td>8382</td>\n",
       "      <td>838.2</td>\n",
       "      <td>838.2</td>\n",
       "      <td>838.2</td>\n",
       "    </tr>\n",
       "  </tbody>\n",
       "</table>\n",
       "</div>"
      ],
      "text/plain": [
       "        Name    Race   Age  age_valinor  age_2  age_3\n",
       "0    Aragorn   human    88          8.8    8.8    8.8\n",
       "1    Boromir   human    41          4.1    4.1    4.1\n",
       "2      Frodo  hobbit    51          5.1    5.1    5.1\n",
       "3  Galadriel     elf  8382        838.2  838.2  838.2"
      ]
     },
     "execution_count": 15,
     "metadata": {},
     "output_type": "execute_result"
    }
   ],
   "source": [
    "data['age_3'] = data['Age'].apply(lambda x: x/10)\n",
    "\n",
    "data"
   ]
  },
  {
   "cell_type": "code",
   "execution_count": 17,
   "id": "82aace51-d64a-4536-8200-a51d8832e91c",
   "metadata": {},
   "outputs": [],
   "source": [
    "data['age_label_2'] = data['Age'].apply(\n",
    "lambda x:  'elven old' if x > 500 else ('middle-aged' if x >=100 else 'young'))"
   ]
  },
  {
   "cell_type": "code",
   "execution_count": 21,
   "id": "ec88d4a4-1f06-4e4d-a21f-ace143530f37",
   "metadata": {},
   "outputs": [],
   "source": [
    "data['age_label'] = data['Age'].apply(\n",
    "    lambda x: 'elven old' if x > 500 else ('middle-aged' if x >= 100 else 'young')\n",
    ")"
   ]
  },
  {
   "cell_type": "code",
   "execution_count": 29,
   "id": "e407f73f-617e-4d33-bcd9-8681c00c1f57",
   "metadata": {},
   "outputs": [
    {
     "data": {
      "text/html": [
       "<div>\n",
       "<style scoped>\n",
       "    .dataframe tbody tr th:only-of-type {\n",
       "        vertical-align: middle;\n",
       "    }\n",
       "\n",
       "    .dataframe tbody tr th {\n",
       "        vertical-align: top;\n",
       "    }\n",
       "\n",
       "    .dataframe thead th {\n",
       "        text-align: right;\n",
       "    }\n",
       "</style>\n",
       "<table border=\"1\" class=\"dataframe\">\n",
       "  <thead>\n",
       "    <tr style=\"text-align: right;\">\n",
       "      <th></th>\n",
       "      <th>Name</th>\n",
       "      <th>Race</th>\n",
       "      <th>Age</th>\n",
       "      <th>age_valinor</th>\n",
       "      <th>age_2</th>\n",
       "      <th>age_3</th>\n",
       "      <th>age_label_2</th>\n",
       "      <th>age_label</th>\n",
       "    </tr>\n",
       "  </thead>\n",
       "  <tbody>\n",
       "    <tr>\n",
       "      <th>0</th>\n",
       "      <td>Aragorn</td>\n",
       "      <td>human</td>\n",
       "      <td>88</td>\n",
       "      <td>8.8</td>\n",
       "      <td>8.8</td>\n",
       "      <td>8.8</td>\n",
       "      <td>young</td>\n",
       "      <td>young</td>\n",
       "    </tr>\n",
       "    <tr>\n",
       "      <th>1</th>\n",
       "      <td>Boromir</td>\n",
       "      <td>human</td>\n",
       "      <td>41</td>\n",
       "      <td>4.1</td>\n",
       "      <td>4.1</td>\n",
       "      <td>4.1</td>\n",
       "      <td>young</td>\n",
       "      <td>young</td>\n",
       "    </tr>\n",
       "    <tr>\n",
       "      <th>2</th>\n",
       "      <td>Frodo</td>\n",
       "      <td>hobbit</td>\n",
       "      <td>51</td>\n",
       "      <td>5.1</td>\n",
       "      <td>5.1</td>\n",
       "      <td>5.1</td>\n",
       "      <td>young</td>\n",
       "      <td>young</td>\n",
       "    </tr>\n",
       "    <tr>\n",
       "      <th>3</th>\n",
       "      <td>Galadriel</td>\n",
       "      <td>elf</td>\n",
       "      <td>8382</td>\n",
       "      <td>838.2</td>\n",
       "      <td>838.2</td>\n",
       "      <td>838.2</td>\n",
       "      <td>elven old</td>\n",
       "      <td>elven old</td>\n",
       "    </tr>\n",
       "  </tbody>\n",
       "</table>\n",
       "</div>"
      ],
      "text/plain": [
       "        Name    Race   Age  age_valinor  age_2  age_3 age_label_2  age_label\n",
       "0    Aragorn   human    88          8.8    8.8    8.8       young      young\n",
       "1    Boromir   human    41          4.1    4.1    4.1       young      young\n",
       "2      Frodo  hobbit    51          5.1    5.1    5.1       young      young\n",
       "3  Galadriel     elf  8382        838.2  838.2  838.2   elven old  elven old"
      ]
     },
     "execution_count": 29,
     "metadata": {},
     "output_type": "execute_result"
    }
   ],
   "source": [
    "data"
   ]
  },
  {
   "cell_type": "code",
   "execution_count": null,
   "id": "6606f5ff-f5c1-4aaf-83b0-63e51bb4ec79",
   "metadata": {},
   "outputs": [],
   "source": []
  }
 ],
 "metadata": {
  "kernelspec": {
   "display_name": "Python [conda env:20th_century]",
   "language": "python",
   "name": "conda-env-20th_century-py"
  },
  "language_info": {
   "codemirror_mode": {
    "name": "ipython",
    "version": 3
   },
   "file_extension": ".py",
   "mimetype": "text/x-python",
   "name": "python",
   "nbconvert_exporter": "python",
   "pygments_lexer": "ipython3",
   "version": "3.9.21"
  }
 },
 "nbformat": 4,
 "nbformat_minor": 5
}
